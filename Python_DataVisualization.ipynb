{
 "cells": [
  {
   "cell_type": "code",
   "execution_count": 79,
   "metadata": {},
   "outputs": [
    {
     "name": "stdout",
     "output_type": "stream",
     "text": [
      "Python version: 3.5.3 (v3.5.3:1880cb95a742, Jan 16 2017, 16:02:32) [MSC v.1900 64 bit (AMD64)]\n"
     ]
    }
   ],
   "source": [
    "import platform\n",
    "#ตรวจสอบเวอร์ชันไพธอน\n",
    "print(\"Python version: {}\".format(platform.sys.version))"
   ]
  },
  {
   "cell_type": "code",
   "execution_count": 80,
   "metadata": {},
   "outputs": [
    {
     "name": "stdout",
     "output_type": "stream",
     "text": [
      "Found that file\n"
     ]
    }
   ],
   "source": [
    "import os\n",
    "''' เราจะเช็ค path ของไฟล์ excel ชนิด (.csv) ก่อนว่ามีไฟล์ชนิดนี้อยู่ใน folder เดียวกันกับไฟล์ jupyter ไหม\n",
    "ด้วยการเรียกใช้ module ของไพธอน คือ os.path.exists() \n",
    "'''\n",
    "file_name = 'exams_100.csv'\n",
    "if os.path.exists(file_name):\n",
    "    print('Found that file')\n",
    "else:\n",
    "    print('Please check csv file.')\n"
   ]
  },
  {
   "cell_type": "code",
   "execution_count": 81,
   "metadata": {},
   "outputs": [],
   "source": [
    "import pandas as pd\n",
    "import matplotlib.pyplot as plt"
   ]
  },
  {
   "cell_type": "code",
   "execution_count": 82,
   "metadata": {
    "scrolled": false
   },
   "outputs": [
    {
     "name": "stdout",
     "output_type": "stream",
     "text": [
      "   gender race/ethnicity parental level of education     lunch  \\\n",
      "0  female        group C            some high school  standard   \n",
      "1  female        group D                 high school  standard   \n",
      "2  female        group E                 high school  standard   \n",
      "3    male        group C                 high school  standard   \n",
      "4    male        group C          associate's degree  standard   \n",
      "\n",
      "  test preparation course  math score  reading score  writing score  \n",
      "0                    none          67             65             69  \n",
      "1               completed          66             75             78  \n",
      "2                    none          76             74             75  \n",
      "3               completed          70             76             67  \n",
      "4                    none          56             49             49  \n"
     ]
    }
   ],
   "source": [
    "#อ่านไฟล์ csv แล้วเอาค่ามาเก็บไว้ในตัวแปรหนึ่งที่ชื่อว่า 'csv_data'\n",
    "csv_data = pd.read_csv(file_name)\n",
    "print(csv_data.head())"
   ]
  },
  {
   "cell_type": "markdown",
   "metadata": {},
   "source": [
    "# TO DO 1 :  displaly 50 rows of the file."
   ]
  },
  {
   "cell_type": "code",
   "execution_count": 83,
   "metadata": {},
   "outputs": [
    {
     "name": "stdout",
     "output_type": "stream",
     "text": [
      "    gender race/ethnicity parental level of education         lunch  \\\n",
      "0   female        group C            some high school      standard   \n",
      "1   female        group D                 high school      standard   \n",
      "2   female        group E                 high school      standard   \n",
      "3     male        group C                 high school      standard   \n",
      "4     male        group C          associate's degree      standard   \n",
      "5   female        group D          associate's degree      standard   \n",
      "6     male        group D                 high school      standard   \n",
      "7   female        group E            some high school  free/reduced   \n",
      "8   female        group D          associate's degree  free/reduced   \n",
      "9   female        group D                some college      standard   \n",
      "10  female        group D            some high school  free/reduced   \n",
      "11  female        group B                 high school  free/reduced   \n",
      "12    male        group C                some college      standard   \n",
      "13  female        group B                some college      standard   \n",
      "14    male        group C                 high school      standard   \n",
      "15  female        group B                some college      standard   \n",
      "16  female        group E                some college  free/reduced   \n",
      "17    male        group E                some college      standard   \n",
      "18  female        group C          associate's degree      standard   \n",
      "19  female        group E                 high school      standard   \n",
      "20    male        group B            some high school  free/reduced   \n",
      "21    male        group E             master's degree  free/reduced   \n",
      "22    male        group C            some high school      standard   \n",
      "23    male        group C            some high school      standard   \n",
      "24    male        group E                 high school      standard   \n",
      "25    male        group D             master's degree      standard   \n",
      "26    male        group D          associate's degree      standard   \n",
      "27  female        group D            some high school  free/reduced   \n",
      "28  female        group E                some college  free/reduced   \n",
      "29    male        group D            some high school  free/reduced   \n",
      "30  female        group E           bachelor's degree  free/reduced   \n",
      "31    male        group B           bachelor's degree      standard   \n",
      "32  female        group C          associate's degree      standard   \n",
      "33    male        group D                 high school      standard   \n",
      "34  female        group C            some high school  free/reduced   \n",
      "35    male        group D                 high school      standard   \n",
      "36    male        group B          associate's degree      standard   \n",
      "37  female        group C          associate's degree      standard   \n",
      "38    male        group C          associate's degree  free/reduced   \n",
      "39    male        group B                some college      standard   \n",
      "40    male        group C           bachelor's degree      standard   \n",
      "41    male        group A            some high school      standard   \n",
      "42    male        group D                 high school      standard   \n",
      "43  female        group C             master's degree  free/reduced   \n",
      "44    male        group A          associate's degree      standard   \n",
      "45    male        group C            some high school  free/reduced   \n",
      "46  female        group D                 high school      standard   \n",
      "47    male        group A             master's degree      standard   \n",
      "48    male        group C          associate's degree  free/reduced   \n",
      "49  female        group C          associate's degree      standard   \n",
      "\n",
      "   test preparation course  math score  reading score  writing score  \n",
      "0                     none          67             65             69  \n",
      "1                completed          66             75             78  \n",
      "2                     none          76             74             75  \n",
      "3                completed          70             76             67  \n",
      "4                     none          56             49             49  \n",
      "5                completed          80             91             89  \n",
      "6                     none          53             55             55  \n",
      "7                completed          79             88             84  \n",
      "8                completed          69             70             73  \n",
      "9                     none          55             66             74  \n",
      "10                    none          51             46             54  \n",
      "11                    none          62             75             66  \n",
      "12               completed          66             53             51  \n",
      "13                    none          62             75             72  \n",
      "14                    none          71             71             61  \n",
      "15                    none          74             82             75  \n",
      "16                    none          65             57             62  \n",
      "17               completed          79             77             76  \n",
      "18                    none          79             82             80  \n",
      "19                    none          96             89             88  \n",
      "20                    none          53             52             48  \n",
      "21               completed          66             77             73  \n",
      "22               completed          64             59             54  \n",
      "23                    none          77             75             66  \n",
      "24                    none          95             68             65  \n",
      "25               completed          75             72             73  \n",
      "26                    none          79             59             67  \n",
      "27                    none          54             60             57  \n",
      "28                    none          59             72             67  \n",
      "29                    none          54             52             45  \n",
      "30                    none          79             91             88  \n",
      "31               completed          79             69             77  \n",
      "32                    none          65             80             75  \n",
      "33               completed          65             62             50  \n",
      "34               completed          64             74             78  \n",
      "35                    none          63             47             48  \n",
      "36                    none          78             74             71  \n",
      "37                    none          63             81             71  \n",
      "38               completed          55             49             57  \n",
      "39                    none          55             51             51  \n",
      "40                    none          53             46             43  \n",
      "41                    none          65             67             61  \n",
      "42               completed          78             83             81  \n",
      "43                    none          70             71             77  \n",
      "44                    none          84             86             83  \n",
      "45                    none          44             53             47  \n",
      "46               completed          64             78             81  \n",
      "47               completed          69             69             70  \n",
      "48                    none          64             57             56  \n",
      "49                    none          52             67             63  \n"
     ]
    }
   ],
   "source": [
    "print(csv_data.head(50))"
   ]
  },
  {
   "cell_type": "markdown",
   "metadata": {},
   "source": [
    "# TO DO 2 : Get amount of 'female'  and 'male' students from csv file."
   ]
  },
  {
   "cell_type": "code",
   "execution_count": 84,
   "metadata": {},
   "outputs": [
    {
     "name": "stdout",
     "output_type": "stream",
     "text": [
      "Amount of student: 100\n",
      "Amount of male student: 51\n",
      "Amount of female student: 49\n"
     ]
    }
   ],
   "source": [
    "gender = csv_data['gender']\n",
    "gender_male = [male for male in gender if male == 'male']\n",
    "gender_female = [female for female in gender if female == 'female']\n",
    "male = len(gender_male)\n",
    "female = len(gender_female)\n",
    "print('Amount of student: {}'.format(len(gender)))\n",
    "print('Amount of male student: {}'.format(male))\n",
    "print('Amount of female student: {}'.format(female))\n"
   ]
  },
  {
   "cell_type": "markdown",
   "metadata": {},
   "source": [
    "# TO DO 3 : Plot bar chart to compare amount of student genders."
   ]
  },
  {
   "cell_type": "code",
   "execution_count": 85,
   "metadata": {},
   "outputs": [
    {
     "data": {
      "image/png": "[encoded data removed]",
      "text/plain": [
       "<matplotlib.figure.Figure at 0x20f99169128>"
      ]
     },
     "metadata": {},
     "output_type": "display_data"
    }
   ],
   "source": [
    "# #TO DO 3 : Plot bar chart to compare student genders.\n",
    "\n",
    "data = [male, female]\n",
    "bar_width = 0.7\n",
    "index_data = [idx for idx, val in enumerate(data)]\n",
    "#print(index_data)\n",
    "plt.title('Comparison of student genders')\n",
    "plt.bar(index_data, data, bar_width, color=['#44bd32', '#40739e'], align='center', alpha=0.5)\n",
    "plt.ylabel('Amount')\n",
    "plt.xlabel('Sex')\n",
    "plt.xticks(index_data, [\"Male\", \"Female\"])\n",
    "plt.show()"
   ]
  },
  {
   "cell_type": "code",
   "execution_count": 86,
   "metadata": {},
   "outputs": [],
   "source": [
    "#ดึงค่าคะแนนมาจากPandas\n",
    "math_score = csv_data['math score']\n",
    "#math_score_index = [idx for idx, val in enumerate(math_score)]\n",
    "reading_score = csv_data['reading score']\n",
    "#reading_score_index = [idx for idx, val in enumerate(reading_score)]\n",
    "writing_score = csv_data['writing score']\n",
    "#writing_score_index = [idx for idx, val in enumerate(writing_score)]"
   ]
  },
  {
   "cell_type": "markdown",
   "metadata": {},
   "source": [
    "# TO DO 4 : Please sort \"math score\" and \"reading score\" in ascending order and compare these scores by using line graph (Compare only 10 students).\n"
   ]
  },
  {
   "cell_type": "code",
   "execution_count": 87,
   "metadata": {},
   "outputs": [
    {
     "name": "stdout",
     "output_type": "stream",
     "text": [
      "[0, 1, 2, 3, 4, 5, 6, 7, 8, 9]\n"
     ]
    }
   ],
   "source": [
    "# Create index of 100 students and save it in a list \n",
    "index_student = [idx for idx in range(len(gender))]\n",
    "print(index_student[:10])"
   ]
  },
  {
   "cell_type": "code",
   "execution_count": 88,
   "metadata": {},
   "outputs": [],
   "source": [
    "#เรียงค่าคะแนนวิชาคณิตศาตร์ และ การอ่าน จากน้อยไปหามาก\n",
    "#วิชาคณิตศาสตร์ \n",
    "math_score_raw = list(math_score)\n",
    "math_score_raw.sort()\n",
    "#print(math_score_raw[:5])\n",
    "#วิชาการอ่าน\n",
    "reading_score_raw = list(reading_score)\n",
    "reading_score_raw.sort()\n",
    "#วิชาการอ่าน\n",
    "writting_score_raw = list(writing_score)\n",
    "writting_score_raw.sort()"
   ]
  },
  {
   "cell_type": "code",
   "execution_count": 89,
   "metadata": {},
   "outputs": [
    {
     "data": {
      "image/png": "[encoded data removed]",
      "text/plain": [
       "<matplotlib.figure.Figure at 0x20f991877f0>"
      ]
     },
     "metadata": {},
     "output_type": "display_data"
    }
   ],
   "source": [
    "plt.figure(figsize=(10,6))\n",
    "plt.title('Line chart comparison on Math and Reading score of students')\n",
    "plt.ylabel('Score')\n",
    "plt.xlabel('Individual student')\n",
    "plt.xticks(index_student[:10])\n",
    "plt.plot(math_score_raw[:10], color='#E91E63',label='Math')\n",
    "plt.plot(reading_score_raw[:10], color='#00BCD4',label='Reading')\n",
    "plt.legend(loc='upper left')\n",
    "plt.show()"
   ]
  },
  {
   "cell_type": "markdown",
   "metadata": {},
   "source": [
    "# TO DO 5: Plot bar chart on three subjects.\n",
    "## Data to plot is : Amount of student who has higher score than mean score of each subject.\n"
   ]
  },
  {
   "cell_type": "code",
   "execution_count": 90,
   "metadata": {},
   "outputs": [],
   "source": [
    "#นับจำนวนนักเรียนที่มีคะแนนสูงกว่าค่าเฉลี่ยในแต่ละวิชา\n",
    "#วิชาคณิตศาสตร์ \n",
    "math_students = len([each_student_score for each_student_score in math_score if each_student_score > avg_math_score])\n",
    "#วิชาการเขียน\n",
    "writing_students = len([each_student_score for each_student_score in writing_score if each_student_score > avg_writing_score])\n",
    "#วิชาการอ่าน\n",
    "reading_students = len([each_student_score for each_student_score in reading_score if each_student_score > avg_reading_score])"
   ]
  },
  {
   "cell_type": "code",
   "execution_count": 91,
   "metadata": {},
   "outputs": [
    {
     "name": "stdout",
     "output_type": "stream",
     "text": [
      "Mean score of math : 68.06 points\n",
      "Mean score of writing: 68.33 points\n",
      "Mean score of reading: 69.99 points\n",
      "\n",
      "\n",
      "Amount of students who pass Mean score of Math subject: 42\n",
      "Amount of students who pass Mean score of Writing subject: 51\n",
      "Amount of students who pass Mean score of Reading subject: 52\n"
     ]
    },
    {
     "data": {
      "image/png": "[encoded data removed]",
      "text/plain": [
       "<matplotlib.figure.Figure at 0x20f989596d8>"
      ]
     },
     "metadata": {},
     "output_type": "display_data"
    }
   ],
   "source": [
    "print('Mean score of math : {} points\\nMean score of writing: {} points\\nMean score of reading: {} points'.format(avg_math_score, avg_writing_score, avg_reading_score))\n",
    "\n",
    "print('\\n\\nAmount of students who pass Mean score of Math subject: {}'.format(math_students))\n",
    "print('Amount of students who pass Mean score of Writing subject: {}'.format(writing_students))\n",
    "print('Amount of students who pass Mean score of Reading subject: {}'.format(reading_students))\n",
    "\n",
    "subjects = 'Math', 'Writing', 'Reading'\n",
    "data = [math_students, writing_students, reading_students]\n",
    "colors = ['gold', 'yellowgreen', 'lightcoral', 'lightskyblue']\n",
    " \n",
    "# Plot bar graph\n",
    "plt.figure(figsize=(8,8))\n",
    "plt.title('\\n\\nBar graph showing the percentage of students passing mean of the courses.')\n",
    "plt.pie(data, labels=subjects, colors=colors, autopct='%1.2f%%', shadow=True)\n",
    " \n",
    "#plt.axis('equal')\n",
    "plt.show()"
   ]
  },
  {
   "cell_type": "markdown",
   "metadata": {},
   "source": [
    "# TO DO 5: หาค่ามัธยฐานและค่าเฉลี่ยของแต่ละวิชา และนำไปแสดงผลบนกราฟแท่งแบบ Multiple plot \n",
    "\n"
   ]
  },
  {
   "cell_type": "code",
   "execution_count": 92,
   "metadata": {},
   "outputs": [
    {
     "name": "stdout",
     "output_type": "stream",
     "text": [
      "Median of Math subject: 67.0\n"
     ]
    }
   ],
   "source": [
    "median_math = 0\n",
    "n = len(math_score_raw)\n",
    "if n < 1:\n",
    "    median_math = 0\n",
    "if n % 2 == 1:\n",
    "    median_math =  sorted(math_score_raw)[n//2]\n",
    "else:\n",
    "    median_math  = sum(sorted(math_score_raw)[n//2-1:n//2+1])/2.0\n",
    "print('Median of Math subject: {}'.format(median_math))"
   ]
  },
  {
   "cell_type": "code",
   "execution_count": 93,
   "metadata": {},
   "outputs": [
    {
     "name": "stdout",
     "output_type": "stream",
     "text": [
      "Median of Reading subject: 71.0\n"
     ]
    }
   ],
   "source": [
    "median_reading = 0\n",
    "n = len(reading_score_raw)\n",
    "if n < 1:\n",
    "    median_reading = 0\n",
    "if n % 2 == 1:\n",
    "    median_reading =  sorted(reading_score_raw)[n//2]\n",
    "else:\n",
    "    median_reading  = sum(sorted(reading_score_raw)[n//2-1:n//2+1])/2.0\n",
    "print('Median of Reading subject: {}'.format(median_reading))"
   ]
  },
  {
   "cell_type": "code",
   "execution_count": 94,
   "metadata": {},
   "outputs": [
    {
     "name": "stdout",
     "output_type": "stream",
     "text": [
      "Median of Writting subject: 69.0\n"
     ]
    }
   ],
   "source": [
    "median_writting = 0\n",
    "n = len(writting_score_raw)\n",
    "if n < 1:\n",
    "    median_writting = 0\n",
    "if n % 2 == 1:\n",
    "    median_writting =  sorted(writting_score_raw)[n//2]\n",
    "else:\n",
    "    median_writting  = sum(sorted(writting_score_raw)[n//2-1:n//2+1])/2.0\n",
    "print('Median of Writting subject: {}'.format(median_writting))"
   ]
  },
  {
   "cell_type": "code",
   "execution_count": 95,
   "metadata": {},
   "outputs": [
    {
     "data": {
      "image/png": "[encoded data removed]",
      "text/plain": [
       "<matplotlib.figure.Figure at 0x20f98b506d8>"
      ]
     },
     "metadata": {},
     "output_type": "display_data"
    }
   ],
   "source": [
    "#Plot multiple bar graph\n",
    "N = 3\n",
    "score_median = (median_math, median_reading, median_writting)\n",
    "score_mean = (avg_math_score, avg_reading_score, avg_writing_score)\n",
    "width = 0.40 \n",
    "\n",
    "index_mean = [idx for idx in range(N)]\n",
    "index_median = [idx+0.40 for idx in range(N)]\n",
    "index_each_subject = [idx+0.40 / 2 for idx in range(N)]\n",
    "\n",
    "plt.figure(figsize=(15,8))\n",
    "plt.bar(index_mean, score_median, width, label='Mean score', color='#D6A2E8')\n",
    "plt.bar(index_median, score_mean, width, label='Median score', color='#55E6C1')\n",
    "\n",
    "plt.ylabel('Scores')\n",
    "plt.title('Scores by group and gender')\n",
    "\n",
    "plt.xticks(index_each_subject, ('Math', 'Reading', 'Writting'))\n",
    "plt.legend(loc='best')\n",
    "plt.show()"
   ]
  },
  {
   "cell_type": "code",
   "execution_count": null,
   "metadata": {},
   "outputs": [],
   "source": []
  }
 ],
 "metadata": {
  "kernelspec": {
   "display_name": "Python 3",
   "language": "python",
   "name": "python3"
  },
  "language_info": {
   "codemirror_mode": {
    "name": "ipython",
    "version": 3
   },
   "file_extension": ".py",
   "mimetype": "text/x-python",
   "name": "python",
   "nbconvert_exporter": "python",
   "pygments_lexer": "ipython3",
   "version": "3.5.3"
  }
 },
 "nbformat": 4,
 "nbformat_minor": 2
}
